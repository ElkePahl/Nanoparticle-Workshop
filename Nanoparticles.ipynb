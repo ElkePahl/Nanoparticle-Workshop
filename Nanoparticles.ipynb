{
  "nbformat": 4,
  "nbformat_minor": 5,
  "metadata": {
    "colab": {
      "provenance": [],
      "collapsed_sections": [
        "S2LtuQ6T_AgP",
        "partial-spotlight",
        "_IGVzcM9PQ9r",
        "6Dy73UbrdrX_",
        "Rbv0IWArg8ji",
        "_K9QZg47acnd",
        "cKf0qIvh_Ixg",
        "YdVDpH2eBER7",
        "HtkRD2I1UsfU",
        "TM-2iInXnSlM"
      ]
    },
    "kernelspec": {
      "display_name": "Python 3 (ipykernel)",
      "language": "python",
      "name": "python3"
    },
    "language_info": {
      "codemirror_mode": {
        "name": "ipython",
        "version": 3
      },
      "file_extension": ".py",
      "mimetype": "text/x-python",
      "name": "python",
      "nbconvert_exporter": "python",
      "pygments_lexer": "ipython3",
      "version": "3.8.10"
    }
  },
  "cells": [
    {
      "cell_type": "markdown",
      "source": [
        "# **Nanoparticles**\n",
        "\n",
        "Workshop at Nanocamp 2024"
      ],
      "metadata": {
        "id": "XRuOUT26Oi9r"
      },
      "id": "XRuOUT26Oi9r"
    },
    {
      "cell_type": "markdown",
      "source": [
        "## **Introduction**\n",
        "\n",
        "A nanoparticle is a collection of atoms that are \"clumped\" together. Nanoparticles are on the nanoscale, meaning that they are ~100,000 times smaller than the width of a human hair.\n",
        "\n",
        "<p align=\"center\">\n",
        "  <img src=\"https://github.com/GardenGroupUO/Computational_Silver_Nanoparticle_Exercise_Data/blob/main/Images/nanoparticle_human_hair_2.png?raw=true\" width=\"600\"/>\n",
        "</p>"
      ],
      "metadata": {
        "id": "WZ4_yMICOruv"
      },
      "id": "WZ4_yMICOruv"
    },
    {
      "cell_type": "markdown",
      "source": [
        "## **Part 1: Size of nanoparticles**"
      ],
      "metadata": {
        "id": "S2LtuQ6T_AgP"
      },
      "id": "S2LtuQ6T_AgP"
    },
    {
      "cell_type": "markdown",
      "metadata": {
        "id": "partial-spotlight"
      },
      "source": [
        "To begin our computational exercises, we will inspect the typical sizes of nanoparticles by creating various nanoparticles virtually on the computer.\n",
        "\n",
        "<font color=\"195EBC\" size=\"\">**To begin, load the prerequisites files**.</font>\n"
      ],
      "id": "partial-spotlight"
    },
    {
      "cell_type": "code",
      "metadata": {
        "id": "lPiNNANOZlfM",
        "cellView": "form"
      },
      "source": [
        "#@markdown <font color=\"black\" size=\"+2\">←</font><font color=\"red\" size=\"+1\"> **Click the play button to load our prerequisite files**</font>\n",
        "\n",
        "!echo --------------------------------\n",
        "!echo Installing python programs\n",
        "!pip install ase==3.22.0 &> /dev/nul\n",
        "!echo Completed installing python programs\n",
        "!if [ -d Computational_Silver_Nanoparticle_Exercise_Data ]; then rm -Rf Computational_Silver_Nanoparticle_Exercise_Data; fi\n",
        "!echo --------------------------------\n",
        "!echo Downloading background python scripts from github\n",
        "!git clone https://github.com/GardenGroupUO/Computational_Silver_Nanoparticle_Exercise_Data &> /dev/nul\n",
        "!echo Completed downloading background python scripts from github\n",
        "!echo --------------------------------"
      ],
      "id": "lPiNNANOZlfM",
      "execution_count": null,
      "outputs": []
    },
    {
      "cell_type": "markdown",
      "metadata": {
        "id": "oXVgqJxRDlJ9"
      },
      "source": [
        "Next, <font color=\"195EBC\" size=\"\">**run the code below and type 500 into the input when it appears**.</font> This program will create the most stable nanoparticle that contains close to or equal to 500 atoms.\n"
      ],
      "id": "oXVgqJxRDlJ9"
    },
    {
      "cell_type": "code",
      "metadata": {
        "id": "religious-sympathy"
      },
      "source": [
        "import os\n",
        "if not os.path.exists('/content/Computational_Silver_Nanoparticle_Exercise_Data'):\n",
        "    message = 'Could not load files. Make sure you have run the prerequisites before running this code.'\n",
        "    tostring =  '\\n'+'-'*len(message)+'\\n'\n",
        "    tostring += message+'\\n'\n",
        "    tostring += '-'*len(message)\n",
        "    raise Exception(tostring)\n",
        "\n",
        "from Computational_Silver_Nanoparticle_Exercise_Data.size import make_nanoparticle\n",
        "from Computational_Silver_Nanoparticle_Exercise_Data.viewer.x3d_viewer import view_x3d\n",
        "nanoparticle = make_nanoparticle()\n",
        "view_x3d(nanoparticle,'Exercise_2.1')"
      ],
      "id": "religious-sympathy",
      "execution_count": null,
      "outputs": []
    },
    {
      "cell_type": "markdown",
      "metadata": {
        "id": "a018288b"
      },
      "source": [
        "This program will <font color=\"195EBC\" size=\"\">**create a nanoparticle that contains 561 atoms**.</font> This nanoparticle that contains 561 atoms is the most stable nanoparticle that can be created that contains close to 500 atoms.\n",
        "\n",
        "Why is this the most stable nanoparticle? <font color=\"195EBC\" size=\"\">**We will be learning more about what makes a stable nanoparticle later**."
      ],
      "id": "a018288b"
    },
    {
      "cell_type": "markdown",
      "metadata": {
        "id": "88153761"
      },
      "source": [
        "> **Question:** What is the length between neighbouring atoms in nanometer in the 561 atoms cluster?\n",
        "\n",
        "> **Question**: What is the size (diameter) of this nanoparticle in nanometer (nm) (HINT: see the hint below for help measuring the diameter of this nanoparticle)\n"
      ],
      "id": "88153761"
    },
    {
      "cell_type": "markdown",
      "metadata": {
        "id": "6C1V4sbVZDWs"
      },
      "source": [
        "HINT: Click on two corner atoms that are as far apart from each other as possible. This first atom you click will go yellow, and the second atom you click will go blue. **<font color=\"195EBC\" size=\"\">You may need to rotate the nanoparticle to find two atoms that are as far apart as possible.</font>** This will give the distance between those two atoms in nanometer (nm) and Angstroms (Å). See below for an example:\n",
        "\n",
        "<p align=\"center\">\n",
        "  <img src=\"https://github.com/GardenGroupUO/Computational_Silver_Nanoparticle_Exercise_Data/blob/main/Images/measure_diameter_of_nanoparticle_example3.png?raw=true\" width=\"700\"/>\n",
        "</p>\n"
      ],
      "id": "6C1V4sbVZDWs"
    },
    {
      "cell_type": "markdown",
      "metadata": {
        "id": "bulgarian-battlefield"
      },
      "source": [
        "Nanoparticles contain **<font color=\"195EBC\" size=\"\">between 13 atoms and LOTS of atoms**.</font>\n",
        "\n",
        "Let's measure some of the diameters of nanoparticles containing various numbers of atoms using the code below; try a 13 atom cluster and then something with about 2000 atoms (careful: using more atoms than that will take too long!):"
      ],
      "id": "bulgarian-battlefield"
    },
    {
      "cell_type": "code",
      "metadata": {
        "id": "392290be"
      },
      "source": [
        "from Computational_Silver_Nanoparticle_Exercise_Data.size import make_nanoparticle\n",
        "nanoparticle = make_nanoparticle()\n",
        "view_x3d(nanoparticle,'Exercise_2.1')"
      ],
      "id": "392290be",
      "execution_count": null,
      "outputs": []
    },
    {
      "cell_type": "markdown",
      "metadata": {
        "id": "7Qgdc0fbPODI"
      },
      "source": [
        "A nanoparticle that contains 21,127 atoms looks like this and still measures only about 10 nm:\n",
        "\n",
        "<img src=\"https://github.com/GardenGroupUO/Computational_Silver_Nanoparticle_Exercise_Data/blob/main/very_big_np.png?raw=true\" alt=\"drawing\" width=\"500\"/>"
      ],
      "id": "7Qgdc0fbPODI"
    },
    {
      "cell_type": "markdown",
      "source": [
        "> **Question:** Looking at the larger nanoparticles created, what do you notice about the shape of the faces of the clusters that you encounter?"
      ],
      "metadata": {
        "id": "_RNz-UeQPuf5"
      },
      "id": "_RNz-UeQPuf5"
    },
    {
      "cell_type": "markdown",
      "source": [
        "## **Part 2: Stability of nanoparticles**"
      ],
      "metadata": {
        "id": "_IGVzcM9PQ9r"
      },
      "id": "_IGVzcM9PQ9r"
    },
    {
      "cell_type": "markdown",
      "source": [
        "**Faces of a nanoparticle**\n",
        "\n",
        "Surfaces of nanoparticles are very important, as they determine how a nanoparticle grows and what its shape is. The surface/shape are essential for the properties of the particles.\n",
        "\n",
        "There are two types of surfaces that are common to nanoparticles. These are:\n",
        "\n",
        "- <font color=\"195EBC\" size=\"\"> **square faces**</font> (left side of image), and\n",
        "- <font color=\"195EBC\" size=\"\">**triangle faces**</font> (right).\n",
        "\n",
        "<font size=3 color=#000000>Image</font> | [<img src=\"https://github.com/GardenGroupUO/Computational_Silver_Nanoparticle_Exercise_Data/blob/main/Images/Part_2.3/square_only_fnn.png?raw=true\" width=\"350\"/>](square.png) | [<img src=\"https://github.com/GardenGroupUO/Computational_Silver_Nanoparticle_Exercise_Data/blob/main/Images/Part_2.3/triangle_only_fnn.png?raw=true\" width=\"350\"/>](triangle_v2.png)\n",
        ":-------------------------:|:-------------------------:|:-------------------------:\n",
        "<font size=3 color=#000000>Face Type</font>             | <font size=3 color=#000000>Square</font> | <font size=3 color=#000000>Triangle</font>\n",
        "<font size=3 color=#000000>Nearest Neighbour</font> | <font size=3 color=#FF0D0D>**Red**</font>    | <font size=3 color=#BC2DFF>**Purple**</font>\n",
        "\n",
        "\n",
        "You will also notice that some of the surface atoms shown <font color=\"195EBC\" size=\"\">**have been coloured**.</font> These colours indicate the <font color=\"195EBC\" size=\"\">**nearest neighbour**</font> atoms, relative to to the black atoms. Nearest neighbours are the other atoms that are closest to the atom of interest and will be touching the black atom in the images.\n",
        "\n",
        "The number of nearest neighbours of the atoms in a cluster is connected to its stability.\n",
        "\n",
        "> **Question:** How many nearest surface neighbours does one find for an atom on a square and triangle face, respectively?"
      ],
      "metadata": {
        "id": "nbWiFbgTPg-n"
      },
      "id": "nbWiFbgTPg-n"
    },
    {
      "cell_type": "markdown",
      "source": [
        "**Stability of surfaces**\n",
        "\n",
        "The number of pairs of nearest-neighbour atoms influence the stability of clusters and surface features in a cluster. In general, the closer the atoms are together and the higher the number of nearest-neighbour pairs the higher the stability.\n"
      ],
      "metadata": {
        "id": "UD_TFtstS7KW"
      },
      "id": "UD_TFtstS7KW"
    },
    {
      "cell_type": "markdown",
      "source": [
        "Let's look at this in more detail by counting <font color=\"195EBC\" size=\"\"> **all neighbouring atoms**</font> that surround the black atoms on the square and triangle faces, <font color=\"195EBC\" size=\"\">**including those neighbouring atoms underneath the surface of the nanoparticle**. </font>\n",
        "\n",
        "<font color=\"195EBC\" size=\"\"><font color=\"195EBC\" size=\"\">**Run the code below to get more insight**.</font>\n",
        "\n",
        "<font color=\"195EBC\" size=\"\">**Press the ``Turn On/Off Transparancy`` button to help see the atoms underneath the surface of the nanoparticle**. </font>"
      ],
      "metadata": {
        "id": "A3YGSHYLWzBo"
      },
      "id": "A3YGSHYLWzBo"
    },
    {
      "cell_type": "code",
      "source": [
        "#@markdown <font color=\"black\" size=\"+2\">←</font><font color=\"red\" size=\"+1\"> **Click the play button to load our prerequisite files**</font>\n",
        "\n",
        "!echo --------------------------------\n",
        "!echo Installing python programs\n",
        "!pip install ase==3.22.0 &> /dev/nul\n",
        "!echo Completed installing python programs\n",
        "!if [ -d Computational_Silver_Nanoparticle_Exercise_Data ]; then rm -Rf Computational_Silver_Nanoparticle_Exercise_Data; fi\n",
        "!echo --------------------------------\n",
        "!echo Downloading background python scripts from github\n",
        "!git clone https://github.com/GardenGroupUO/Computational_Silver_Nanoparticle_Exercise_Data &> /dev/nul\n",
        "!echo Completed downloading background python scripts from github\n",
        "!echo --------------------------------"
      ],
      "metadata": {
        "cellView": "form",
        "id": "iVPq5-CTVr0b"
      },
      "id": "iVPq5-CTVr0b",
      "execution_count": null,
      "outputs": []
    },
    {
      "cell_type": "code",
      "source": [
        "import os\n",
        "if not os.path.exists('/content/Computational_Silver_Nanoparticle_Exercise_Data'):\n",
        "    message = 'Could not load files. Make sure you have run the prerequisites before running this code.'\n",
        "    tostring =  '\\n'+'-'*len(message)+'\\n'\n",
        "    tostring += message+'\\n'\n",
        "    tostring += '-'*len(message)\n",
        "    raise Exception(tostring)\n",
        "\n",
        "from Computational_Silver_Nanoparticle_Exercise_Data.nanoparticle_faces import number_of_neighbouring_atoms\n",
        "from Computational_Silver_Nanoparticle_Exercise_Data.viewer.x3d_viewer import view_x3d\n",
        "atoms, colours, transparencies = number_of_neighbouring_atoms()\n",
        "view_x3d(atoms,notebook_name='Exercise_2.3',colours=colours,transparencies=transparencies)"
      ],
      "metadata": {
        "id": "_Dew6xLlVedZ"
      },
      "id": "_Dew6xLlVedZ",
      "execution_count": null,
      "outputs": []
    },
    {
      "cell_type": "markdown",
      "source": [
        "> **Activity**: Find the number of nearest neighbours of the black surface atoms sitting on square and triangle faces. Check the distance of nearest neighbour pairs in both cases."
      ],
      "metadata": {
        "id": "_b5GZPWjWKy3"
      },
      "id": "_b5GZPWjWKy3"
    },
    {
      "cell_type": "markdown",
      "source": [
        "Next, let's compare your answers with the <font color=\"195EBC\" size=\"\">**number of  nearest neighbours**</font> that <font color=\"195EBC\" size=\"\">**surround an atom in the bulk**</font> (i.e. surround an atom that is found **within** the nanoparticle).\n",
        "\n",
        "<font color=\"195EBC\" size=\"\">**Run the code below and answer the following questions**.</font>\n",
        "\n",
        "<font color=\"195EBC\" size=\"\">**Press the ``Turn On/Off Transparancy`` button to help see the the bulk atoms better"
      ],
      "metadata": {
        "id": "1WJ4SNTxXrhj"
      },
      "id": "1WJ4SNTxXrhj"
    },
    {
      "cell_type": "code",
      "source": [
        "import os\n",
        "if not os.path.exists('/content/Computational_Silver_Nanoparticle_Exercise_Data'):\n",
        "    message = 'Could not load files. Make sure you have run the prerequisites before running this code.'\n",
        "    tostring =  '\\n'+'-'*len(message)+'\\n'\n",
        "    tostring += message+'\\n'\n",
        "    tostring += '-'*len(message)\n",
        "    raise Exception(tostring)\n",
        "\n",
        "from Computational_Silver_Nanoparticle_Exercise_Data.nanoparticle_faces import number_of_neighbouring_atoms_in_middle_of_nanoparticle\n",
        "from Computational_Silver_Nanoparticle_Exercise_Data.viewer.x3d_viewer import view_x3d\n",
        "atoms, colours, transparencies = number_of_neighbouring_atoms_in_middle_of_nanoparticle()\n",
        "view_x3d(atoms,notebook_name='Exercise_2.3',colours=colours,transparencies=transparencies)"
      ],
      "metadata": {
        "id": "QLwWX_zYP9ZU"
      },
      "id": "QLwWX_zYP9ZU",
      "execution_count": null,
      "outputs": []
    },
    {
      "cell_type": "markdown",
      "source": [
        "> **Question**: How many <font color=\"195EBC\" size=\"\">**nearest neighbour atoms**</font> are there around the **black atom** in the <font color=\"195EBC\" size=\"\">**bulk of the nanoparticle**?</font> (how many <font color=#FF9200>**gold**</font> atoms are there?)"
      ],
      "metadata": {
        "id": "kkLbVcRyYDIh"
      },
      "id": "kkLbVcRyYDIh"
    },
    {
      "cell_type": "markdown",
      "source": [
        "## **Part 3: Shape of nanoparticles**"
      ],
      "metadata": {
        "id": "6Dy73UbrdrX_"
      },
      "id": "6Dy73UbrdrX_"
    },
    {
      "cell_type": "markdown",
      "source": [
        "As surface atoms contribute less to a stability of a cluster than the bulk atoms, a cluster normally tries to minimize its surface. Small clusters therefore often show icosahedral shapes/motifs. (But, as icosahedra have a five-fold symmetry the growth pattern has to change for larger clusters which ressemble more and more the bulk. You cannot fill space in a dense manner with icosahedra.)\n",
        "\n",
        "Generally, square faces are less stable than triangle faces; therefore we usually see larger triangle faces on nanoparticles. However, the stability of these square faces differ between different types of metals. This consequently causes different metallic nanoparticles to have different shapes.\n",
        "\n",
        "\n"
      ],
      "metadata": {
        "id": "5uiFyhfdY_1m"
      },
      "id": "5uiFyhfdY_1m"
    },
    {
      "cell_type": "markdown",
      "source": [
        "In the following, we will look at what the most stable nanoparticles containing about 500 atoms look like for different types of metal elements.\n",
        "\n",
        "<font color=\"195EBC\" size=\"\">**To begin, load the prerequisites files**.</font>"
      ],
      "metadata": {
        "id": "HBu7DDMSd8MC"
      },
      "id": "HBu7DDMSd8MC"
    },
    {
      "cell_type": "code",
      "metadata": {
        "cellView": "form",
        "id": "QqyRP9-_fijm"
      },
      "source": [
        "#@markdown <font color=\"black\" size=\"+2\">←</font><font color=\"red\" size=\"+1\"> **Click the play button to load our prerequisite files**</font>\n",
        "\n",
        "!echo --------------------------------\n",
        "!echo Installing python programs\n",
        "!pip install ase==3.22.0 &> /dev/nul\n",
        "!echo Completed installing python programs\n",
        "!if [ -d Computational_Silver_Nanoparticle_Exercise_Data ]; then rm -Rf Computational_Silver_Nanoparticle_Exercise_Data; fi\n",
        "!echo --------------------------------\n",
        "!echo Downloading background python scripts from github\n",
        "!git clone https://github.com/GardenGroupUO/Computational_Silver_Nanoparticle_Exercise_Data &> /dev/nul\n",
        "!echo Completed downloading background python scripts from github\n",
        "!echo --------------------------------"
      ],
      "execution_count": null,
      "outputs": [],
      "id": "QqyRP9-_fijm"
    },
    {
      "cell_type": "markdown",
      "source": [
        "Below is the full Python code for a script that will create a nanoparticle containing different metal atoms with around 500 atoms. <font color=\"195EBC\" size=\"\">**Try making different metal nanoparticles around 500 atoms in size and compare**: </font>\n",
        "\n",
        "<font color=\"195EBC\" size=\"\">**Re-run the code with different metal by changing the element given in the ``element`` variable and press the <img src=\"https://github.com/GardenGroupUO/Computational_Silver_Nanoparticle_Exercise_Data/blob/main/Images/stop_images/playsvg.png?raw=true\" alt=\"drawing\" width=\"28\"/> button**</font>"
      ],
      "metadata": {
        "id": "qQFp-3ke6VMG"
      },
      "id": "qQFp-3ke6VMG"
    },
    {
      "cell_type": "code",
      "metadata": {
        "id": "580a79c8"
      },
      "source": [
        "import os\n",
        "if not os.path.exists('/content/Computational_Silver_Nanoparticle_Exercise_Data'):\n",
        "    message = 'Could not load files. Make sure you have run the prerequisites before running this code.'\n",
        "    tostring =  '\\n'+'-'*len(message)+'\\n'\n",
        "    tostring += message+'\\n'\n",
        "    tostring += '-'*len(message)\n",
        "    raise Exception(tostring)\n",
        "\n",
        "from ase.cluster import wulff_construction\n",
        "from Computational_Silver_Nanoparticle_Exercise_Data.viewer.x3d_viewer import view_x3d\n",
        "\n",
        "#### Change the element below and compare the changes ####\n",
        "element = 'Yb' # options: 'Ag', 'Au', 'Cu', 'Ir', 'Ni', 'Pd', 'Pt', 'Th', 'Yb'\n",
        "\n",
        "# You don't need to edit the code below here/\n",
        "\n",
        "if element == 'Ag':\n",
        "    E_stab_square = 1.1808\n",
        "elif element == 'Au':\n",
        "    E_stab_square = 1.4648\n",
        "elif element == 'Cu':\n",
        "    E_stab_square = 1.2815\n",
        "elif element == 'Ir':\n",
        "    E_stab_square = 1.3981\n",
        "elif element == 'Ni':\n",
        "    E_stab_square = 1.3942\n",
        "elif element == 'Pd':\n",
        "    E_stab_square = 1.3725\n",
        "elif element == 'Pt':\n",
        "    E_stab_square = 1.4648\n",
        "elif element == 'Th':\n",
        "    E_stab_square = 1.1419\n",
        "elif element == 'Yb':\n",
        "    E_stab_square = 1.4465\n",
        "\n",
        "esurf = [E_stab_square,1.0]\n",
        "surfaces = [(1,0,0),(1,1,1)]\n",
        "size = 500\n",
        "\n",
        "atoms = wulff_construction(element,surfaces,esurf,size,'fcc',rounding='above')\n",
        "atoms.cell=[0,0,0]\n",
        "view_x3d(atoms,'Exercise_2.5')"
      ],
      "execution_count": null,
      "outputs": [],
      "id": "580a79c8"
    },
    {
      "cell_type": "markdown",
      "source": [
        "**Silver nanoprisms**\n"
      ],
      "metadata": {
        "id": "Rbv0IWArg8ji"
      },
      "id": "Rbv0IWArg8ji"
    },
    {
      "cell_type": "markdown",
      "metadata": {
        "id": "aquatic-carroll"
      },
      "source": [
        "\n",
        "We will now focus on silver nanoprisms and looking at:\n",
        "\n",
        "1. <font color=\"195EBC\" size=\"\">**How do silver nanoparticles form?**</font>\n",
        "2. <font color=\"195EBC\" size=\"\">**Why do silver nanoparticles look like prisms?**</font>\n",
        "\n",
        "\n"
      ],
      "id": "aquatic-carroll"
    },
    {
      "cell_type": "markdown",
      "source": [
        "**How do nanoparticles form?**\n",
        "\n",
        "In an experiment generating silver nanoparticles, silver ions are reduced to metallic silver:\n",
        "\n",
        "<center>\n",
        "<font size=3>\n",
        "NaBH<sub>4</sub> + 8AgNO<sub>3</sub> + 4H<sub>2</sub>O $\\rightarrow$ Na[B(OH)<sub>4</sub>] + 8Ag + 8H<sup>+</sup> + 8NO<sub>3</sub><sup>-</sup>\n",
        "</font>\n",
        "</center>\n",
        "\n",
        "If we focus on what is happening to silver in this equation, we see the following reduction half-equation:\n",
        "\n",
        "<center>\n",
        "<font size=3>\n",
        "Ag<sup>+</sup> + e<sup>-</sup> $\\rightarrow$ Ag\n",
        "</font>\n",
        "</center>\n",
        "\n",
        "\n",
        "As the metallic silver forms, it makes tiny \"seeds\", which are a few solid atoms clumped together so they are essentially entirely made of surfaces. Remember that surfaces are much less stable than the bulk because surfacce atoms are missing neighbours. The seed will therefore \"grab\" more and more silver atoms as they are reduced to cover up their surface and make bigger and bigger nanoparticles. This is how they grow."
      ],
      "metadata": {
        "id": "7EH-4ULtdF6C"
      },
      "id": "7EH-4ULtdF6C"
    },
    {
      "cell_type": "markdown",
      "metadata": {
        "id": "iT-lkuQewGxD"
      },
      "source": [
        "**Why do silver nanoparticles look like prisms?**\n",
        "\n",
        "Below shows various silver nanoprisms that have been photographed using electron microscopes.\n",
        "\n",
        "<center>\n",
        "<img src=\"https://github.com/GardenGroupUO/Computational_Silver_Nanoparticle_Exercise_Data/blob/main/Images/Silver_Nanoparticle/NP_sizes.png?raw=true\" alt=\"drawing\" width=\"1200\"/>\n",
        "</center>"
      ],
      "id": "iT-lkuQewGxD"
    },
    {
      "cell_type": "markdown",
      "metadata": {
        "id": "_K9QZg47acnd"
      },
      "source": [
        "**Why are they flat?**\n",
        "\n",
        "You can see above that the prisms are essentially flat, 2D particles. This can be explained by thinking more about the tiny seed particles. Perfection is very hard to attain in chemistry and often these seeds have little defected corners:\n",
        "\n",
        "<center>\n",
        "<img src=\"https://github.com/GardenGroupUO/Computational_Silver_Nanoparticle_Exercise_Data/blob/main/Images/Part_3.1/np_corners.png?raw=true\" alt=\"drawing\" width=\"600\"/>\n",
        "</center>\n"
      ],
      "id": "_K9QZg47acnd"
    },
    {
      "cell_type": "markdown",
      "metadata": {
        "id": "7JNiPkyDD3se"
      },
      "source": [
        "> **Question**: Do you think that the corner atoms have <font color=\"195EBC\" size=\"\">**more or fewer**</font> neighbours than the surfaces? So, which sites (surface or corner) do you think are going to grab silver atoms more quickly?\n",
        "\n",
        "\n"
      ],
      "id": "7JNiPkyDD3se"
    },
    {
      "cell_type": "markdown",
      "source": [
        "The faster the sites grab the atoms, the quicker they grow along this direction. Therefore the particles grow quickly along the corner sites and become wide and flat."
      ],
      "metadata": {
        "id": "1RKOcNqWhK90"
      },
      "id": "1RKOcNqWhK90"
    },
    {
      "cell_type": "markdown",
      "metadata": {
        "id": "aJQyNNQJF0B4"
      },
      "source": [
        "**Why are they triangular?**\n",
        "\n",
        "We have figured out why the particles are flat but to understand why they are triangular, we need to think again about the triangle and square faces. If we were to create a nanoparticle in the shape of a flat prism, we would find that the edges will be made up of triangle and square faces:\n",
        "\n",
        "<center>\n",
        "<img src=\"https://github.com/GardenGroupUO/Computational_Silver_Nanoparticle_Exercise_Data/blob/main/Images/Silver_Nanoparticle/Views_of_Ag_NP.png?raw=true\" alt=\"drawing\" width=\"600\"/>\n",
        "</center>\n",
        "\n",
        "Both surfaces will grab silver atoms to get more neighbours and, in doing so, they will start to grow bigger and bigger. However, the least stable surfaces will grow faster as they try to grab more neighbours as fast as they can.\n"
      ],
      "id": "aJQyNNQJF0B4"
    },
    {
      "cell_type": "markdown",
      "metadata": {
        "id": "Mr6ZzOu5edFW"
      },
      "source": [
        "> **Question**: Which surface is <font color=\"195EBC\" size=\"\">**least stable**</font> (square or triangle) and thus will <font color=\"195EBC\" size=\"\">**grow faster**</font>?\n"
      ],
      "id": "Mr6ZzOu5edFW"
    },
    {
      "cell_type": "markdown",
      "source": [
        "Hopefully you have figured out that the less stable, square faces would grow more quickly because they have fewer neighbours. This means that the nanoparticle will become more and more triangular as it grows!"
      ],
      "metadata": {
        "id": "CoaBwUAQEnpx"
      },
      "id": "CoaBwUAQEnpx"
    },
    {
      "cell_type": "markdown",
      "source": [
        "\n",
        "<center>\n",
        "<img src=\"https://github.com/GardenGroupUO/Computational_Silver_Nanoparticle_Exercise_Data/blob/main/Images/Silver_Nanoparticle/Growth_of_Ag_NP.png?raw=true\" alt=\"drawing\" width=\"600\"/>\n",
        "</center>"
      ],
      "metadata": {
        "id": "xY1iPe8xidwl"
      },
      "id": "xY1iPe8xidwl"
    },
    {
      "cell_type": "markdown",
      "metadata": {
        "id": "E06FtzAb9YcI"
      },
      "source": [
        "**Perform a simulation of a small silver nanoprism**\n",
        "\n",
        "Let's perform some simulations to see this in action. To begin, <font color=\"195EBC\" size=\"\">**press the <img src=\"https://github.com/GardenGroupUO/Computational_Silver_Nanoparticle_Exercise_Data/blob/main/Images/stop_images/playsvg.png?raw=true\" alt=\"drawing\" width=\"28\"/> button to load all the prerequisite files to perform our simulations**.</font>"
      ],
      "id": "E06FtzAb9YcI"
    },
    {
      "cell_type": "code",
      "metadata": {
        "cellView": "form",
        "id": "3A5CFFM8iBKh"
      },
      "source": [
        "#@markdown <font color=\"black\" size=\"+2\">←</font><font color=\"red\" size=\"+1\"> **Click the play button to load our prerequisite files**</font>\n",
        "\n",
        "!echo --------------------------------\n",
        "!echo Installing python programs\n",
        "!pip install ase==3.22.0 &> /dev/nul\n",
        "!echo Completed installing python programs\n",
        "!if [ -d Computational_Silver_Nanoparticle_Exercise_Data ]; then rm -Rf Computational_Silver_Nanoparticle_Exercise_Data; fi\n",
        "!echo --------------------------------\n",
        "!echo Downloading background python scripts from github\n",
        "!git clone https://github.com/GardenGroupUO/Computational_Silver_Nanoparticle_Exercise_Data &> /dev/nul\n",
        "!echo Completed downloading background python scripts from github\n",
        "!echo --------------------------------"
      ],
      "execution_count": null,
      "outputs": [],
      "id": "3A5CFFM8iBKh"
    },
    {
      "cell_type": "markdown",
      "metadata": {
        "id": "ornzRjg0CD28"
      },
      "source": [
        "In this simulation, silver atoms are added more often to the square faces so that they grow more quickly."
      ],
      "id": "ornzRjg0CD28"
    },
    {
      "cell_type": "code",
      "metadata": {
        "id": "zalkYYIXOMIC"
      },
      "source": [
        "import os\n",
        "if not os.path.exists('/content/Computational_Silver_Nanoparticle_Exercise_Data'):\n",
        "    message = 'Could not load files. Make sure you have run the prerequisites before running this code.'\n",
        "    tostring =  '\\n'+'-'*len(message)+'\\n'\n",
        "    tostring += message+'\\n'\n",
        "    tostring += '-'*len(message)\n",
        "    raise Exception(tostring)\n",
        "\n",
        "from Computational_Silver_Nanoparticle_Exercise_Data.Silver_Prism_Animation.silver_nanoprism_growing_model import silver_nanoprism_growing_model\n",
        "\n",
        "path_to_file = 'Computational_Silver_Nanoparticle_Exercise_Data/Silver_Prism_Animation/small_initial_seed.xyz'\n",
        "change_of_creating_new_100_surface = 0.9\n",
        "max_no_of_atoms_added_in_simulation = 1000\n",
        "\n",
        "traj_path = silver_nanoprism_growing_model(path_to_file,change_of_creating_new_100_surface=change_of_creating_new_100_surface,max_no_of_atoms_added_in_simulation=max_no_of_atoms_added_in_simulation)"
      ],
      "execution_count": null,
      "outputs": [],
      "id": "zalkYYIXOMIC"
    },
    {
      "cell_type": "markdown",
      "metadata": {
        "id": "NLb0mkYsLCay"
      },
      "source": [
        "After performing this simulation, run the code below to watch the animation of your simulation. Can you see the triangular shape evolve?\n",
        "\n",
        "**Note: Can you see at the start of the simulation that half the edge surfaces were square faces and the other half were triangle faces.**"
      ],
      "id": "NLb0mkYsLCay"
    },
    {
      "cell_type": "code",
      "metadata": {
        "id": "mw2rZgx4PEYE"
      },
      "source": [
        "import os\n",
        "if not os.path.exists('Computational_Silver_Nanoparticle_Exercise_Data'):\n",
        "    message = 'Could not load files. Make sure you have run the prerequisites before running this code.'\n",
        "    tostring =  '\\n'+'-'*len(message)+'\\n'\n",
        "    tostring += message+'\\n'\n",
        "    tostring += '-'*len(message)\n",
        "    raise Exception(tostring)\n",
        "\n",
        "from ase.io import read\n",
        "from Computational_Silver_Nanoparticle_Exercise_Data.movie_viewer.x3d_movie_viewer import view_x3d_movie\n",
        "\n",
        "animation = read(traj_path,index=':')\n",
        "view_x3d_movie(animation,'Exercise_3.1')"
      ],
      "execution_count": null,
      "outputs": [],
      "id": "mw2rZgx4PEYE"
    },
    {
      "cell_type": "markdown",
      "source": [
        "## **Part 4: Colour of nanoparticles**"
      ],
      "metadata": {
        "id": "cKf0qIvh_Ixg"
      },
      "id": "cKf0qIvh_Ixg"
    },
    {
      "cell_type": "markdown",
      "metadata": {
        "id": "YdVDpH2eBER7"
      },
      "source": [
        "One of the weird and wonderful properties of metallic nanoparticles, such as gold (Au), silver (Ag), and copper (Cu), is that these nanoparticles are not gold, silver or copper coloured!\n",
        "\n",
        "In fact, we can tune the colour of these metallic nanoparticles by changing the size of the nanoparticle. We can make metallic nanoparticles that are red, orange, yellow, blue, and purple."
      ],
      "id": "YdVDpH2eBER7"
    },
    {
      "cell_type": "markdown",
      "metadata": {
        "id": "6VFhsb2nrX6c"
      },
      "source": [
        "**What are the colours of silver nanoprism suspension?**\n",
        "\n",
        "Below shows various silver nanoprisms that have been photographed using electron microscopes, along with the colours of the associated suspensions. (Note that we use the term \"suspension\", rather than \"solution\" because the nanoprisms are solids, dispersed in water, not dissolved in water.\n",
        "\n",
        "<center>\n",
        "<img src=\"https://github.com/GardenGroupUO/Computational_Silver_Nanoparticle_Exercise_Data/blob/main/Images/Silver_Nanoparticle/NP_sizes_coloured_edit.png?raw=true\" alt=\"drawing\" width=\"700\"/>\n",
        "</center>\n",
        "\n",
        "These different size nanoprisms can be different colours based on their size. Smaller nanoparticles tend to be more blue on the colour spectrum, while larger nanoparticles tend to be more red on the colour spectrum. Let's look at why this is!"
      ],
      "id": "6VFhsb2nrX6c"
    },
    {
      "cell_type": "markdown",
      "metadata": {
        "id": "AvDpDgPGJWMn"
      },
      "source": [
        "**Colour of light**\n",
        "\n",
        "Light is an electromagnetic wave, made up of an oscillating electric field and a magnetic field. These oscillate at 90 degrees to each other and travel in the same direction at the speed of light (3.0 $\\times$ 10<sup>8</sup> ms<sup>-1</sup>).\n",
        "\n",
        "Run the code below and watch the video to take a look at an animation of light."
      ],
      "id": "AvDpDgPGJWMn"
    },
    {
      "cell_type": "code",
      "metadata": {
        "id": "9G5LPIdRIQpx"
      },
      "source": [
        "from IPython.display import YouTubeVideo\n",
        "YouTubeVideo('aCTRjVEmeC0', width=1200, height=800)"
      ],
      "execution_count": null,
      "outputs": [],
      "id": "9G5LPIdRIQpx"
    },
    {
      "cell_type": "markdown",
      "metadata": {
        "id": "ADA9uVKRJhxa"
      },
      "source": [
        "The <font color=\"195EBC\" size=\"\">**wavelength**</font> of a wave <font color=\"195EBC\" size=\"\">**is the length of the wave's oscillation**</font>.\n",
        "\n",
        "<center>\n",
        "<img src=\"https://github.com/GardenGroupUO/Computational_Silver_Nanoparticle_Exercise_Data/blob/main/Images/Part_3.2/wrel1.gif?raw=true\" alt=\"drawing\" width=\"700\"/>\n",
        "</center>\n",
        "\n",
        "<font color=\"195EBC\" size=\"\">**Different colours of light**</font> are light waves that <font color=\"195EBC\" size=\"\">**have different wavelengths**</font>. An example of the different wavelengths of light and their associated colours are shown below.\n",
        "\n",
        "<center>\n",
        "<img src=\"https://github.com/GardenGroupUO/Computational_Silver_Nanoparticle_Exercise_Data/blob/main/Images/Silver_Nanoparticle/LIS_SCI_ART_02_Colours_of_light_visible_spectrum_waves_v3.jpg?raw=true\" alt=\"drawing\" width=\"700\"/>\n",
        "</center>"
      ],
      "id": "ADA9uVKRJhxa"
    },
    {
      "cell_type": "markdown",
      "metadata": {
        "id": "1Srap2wIwGi6"
      },
      "source": [
        "* Colours like <font size=3 color=#FF0D0D>red</font>, <font size=3 color=#FFA500>orange</font>, and <font size=3 color=#F6BE00>yellow</font> have **longer wavelengths**\n",
        "* Colours like <font size=3 color=#0000FF>blue</font>, <font size=3 color=#00008B>indigo</font>, and <font size=3 color=#8F00FF>violet (purple)</font>, have **shorter wavelengths**\n",
        "\n",
        "When we look at the white light that comes out of a lightbulb, what we see as <font color=\"195EBC\" size=\"\">**white light is a combination of every wavelength of light emitted together**</font>.\n",
        "\n",
        "<center>\n",
        "<img src=\"https://github.com/GardenGroupUO/Computational_Silver_Nanoparticle_Exercise_Data/blob/main/Images/Silver_Nanoparticle/whitelight.png?raw=true\" alt=\"drawing\" width=\"350\"/>\n",
        "</center>\n"
      ],
      "id": "1Srap2wIwGi6"
    },
    {
      "cell_type": "markdown",
      "metadata": {
        "id": "vqY-DQcX-9FG"
      },
      "source": [
        "> **Questions**:\n",
        "* What is the difference between different coloured light?\n",
        "* Which colour of light has a <font color=\"195EBC\" size=\"\">**longer wavelength**</font>, red light or blue light?\n",
        "\n"
      ],
      "id": "vqY-DQcX-9FG"
    },
    {
      "cell_type": "markdown",
      "metadata": {
        "id": "yu1m774dKhOn"
      },
      "source": [
        "**What happens when light interacts with nanoparticles?**\n",
        "\n",
        "Because light is an oscilating electric field, light can interact with electrons because electrons contain a negative electric charge. These include electrons in materials, such as nanoparticles.\n",
        "\n",
        "* When light hits a nanoparticle, the energy from the light can be converted into kinetic energy in the electrons in the nanoparticle.\n",
        "* This causes the electrons to oscilate backwards and forth in the nanoparticle.\n",
        "\n",
        "This is called <font color=\"195EBC\" size=\"\">**surface plasmon resonance**</font>. Surface plasmon resonance allows <font color=\"195EBC\" size=\"\">**light to be absorbed by the nanoparticle**</font>.\n",
        "\n",
        "However, for light to be adsorbed by a nanoparticle, <font color=\"195EBC\" size=\"\">**the light must have a wavelength that is equal to the diameter of the nanoparticle**</font>. For example, if red light is shone at nanoparticles with a diameter equal to the wavelength of red light, that red light will be adsorbed by the nanoparticle. No red light will be seen after it passes through the nanoparticle suspension.\n",
        "\n",
        "<center>\n",
        "<img src=\"https://github.com/GardenGroupUO/Computational_Silver_Nanoparticle_Exercise_Data/blob/main/Images/Silver_Nanoparticle/NP_red_light.png?raw=true\" alt=\"drawing\" width=\"700\"/>\n",
        "</center>\n",
        "\n",
        "Other wavelengths of light are absorbed by other sizes of nanoparticles.\n",
        "\n",
        "* Larger nanoparticles absorb larger wavelengths of light, like red\n",
        "* Smaller nanoparticles absorb shorter wavelengths of light, like blue.\n",
        "\n",
        "<center>\n",
        "<img src=\"https://github.com/GardenGroupUO/Computational_Silver_Nanoparticle_Exercise_Data/blob/main/Images/Silver_Nanoparticle/NP_size_colour.png?raw=true\" alt=\"drawing\" width=\"400\"/>\n",
        "</center>\n",
        "\n",
        "\n",
        "\n",
        "\n"
      ],
      "id": "yu1m774dKhOn"
    },
    {
      "cell_type": "markdown",
      "metadata": {
        "id": "HtkRD2I1UsfU"
      },
      "source": [
        "**What happens when silver nanoprisms interact with white light?**\n",
        "\n",
        "When white light interacts with silver nanoprisms, those <font color=\"195EBC\" size=\"\">**colours that have wavelengths that are exactly or nearly equal to the diameter of the silver nanoprism diameter will be absorbed by the electrons in the nanoprism**</font>. The other wavelengths that have wavelengths that are not the same as the diameter of the nanoparticles will not absorbed by the nanoparticle. <font color=\"195EBC\" size=\"\">**Instead, these non-absorbed wavelengths pass through the solution**. **These non-absorbed wavelengths are what we see when see look at the coloured suspension**</font>.\n",
        "\n",
        "<center>\n",
        "<img src=\"https://github.com/GardenGroupUO/Computational_Silver_Nanoparticle_Exercise_Data/blob/main/Images/Silver_Nanoparticle/AG_colour_process.png?raw=true\" alt=\"drawing\" width=\"600\"/>\n",
        "</center>"
      ],
      "id": "HtkRD2I1UsfU"
    },
    {
      "cell_type": "markdown",
      "source": [
        "**What controls the size of the silver nanoprisms?**\n",
        "\n",
        "In the described silver nanoprism experiment, bromide is one of the reagents, which acts as a <font color=\"195EBC\" size=\"\">**capping agent**</font>. Basically, what a capping agent does is to stop the growth of the nanoprisms (it \"caps\" them).\n",
        "\n",
        "Remember from Part 3.1 that the nanoprisms grow as silver ions are added to the faces of the nanoprism, so that the silver stoms in the nanoprism gain more neighbours and become more stable. This growth process will continue in solution and <font color=\"195EBC\" size=\"\">**the nanoparticle will get bigger and bigger.** </font>\n",
        "\n",
        "If there is a capping agent in solution, however, it can also add to the faces of the nanoparticle, blocking the addition of silver ions and therefore stopping the growth process.\n",
        "\n",
        "**Try the simulation below to see this in action!**"
      ],
      "metadata": {
        "id": "TM-2iInXnSlM"
      },
      "id": "TM-2iInXnSlM"
    },
    {
      "cell_type": "code",
      "source": [
        "#@markdown <font color=\"black\" size=\"+2\">←</font><font color=\"red\" size=\"+1\"> **Click the play button to load our prerequisite files**</font>\n",
        "\n",
        "!echo --------------------------------\n",
        "!echo Installing python programs\n",
        "!pip install ase==3.22.0 &> /dev/nul\n",
        "!echo Completed installing python programs\n",
        "!if [ -d Computational_Silver_Nanoparticle_Exercise_Data ]; then rm -Rf Computational_Silver_Nanoparticle_Exercise_Data; fi\n",
        "!echo --------------------------------\n",
        "!echo Downloading background python scripts from github\n",
        "!git clone https://github.com/GardenGroupUO/Computational_Silver_Nanoparticle_Exercise_Data &> /dev/nul\n",
        "!echo Completed downloading background python scripts from github\n",
        "!echo --------------------------------"
      ],
      "metadata": {
        "id": "VesRK3MAqmSp"
      },
      "execution_count": null,
      "outputs": [],
      "id": "VesRK3MAqmSp"
    },
    {
      "cell_type": "code",
      "source": [
        "import os\n",
        "if not os.path.exists('/content/Computational_Silver_Nanoparticle_Exercise_Data'):\n",
        "    message = 'Could not load files. Make sure you have run the prerequisites before running this code.'\n",
        "    tostring =  '\\n'+'-'*len(message)+'\\n'\n",
        "    tostring += message+'\\n'\n",
        "    tostring += '-'*len(message)\n",
        "    raise Exception(tostring)\n",
        "\n",
        "from Computational_Silver_Nanoparticle_Exercise_Data.Silver_Prism_Animation.silver_nanoprism_growing_model_with_capping_during_sim import silver_nanoprism_growing_model\n",
        "\n",
        "path_to_file = 'Computational_Silver_Nanoparticle_Exercise_Data/Silver_Prism_Animation/small_initial_seed.xyz'\n",
        "# The list below is given as [Chance of atom attaching to a square surface, Chance of atom attaching to a triangle surface, chance of a Br capping a Ag atom]\n",
        "chance_of_creating_new_100_surface_111_surface_bromine_capping = [0.8,0.02,0.18]\n",
        "max_no_of_atoms_added_in_simulation = 1000\n",
        "\n",
        "traj_path_small = silver_nanoprism_growing_model(path_to_file,chance_of_creating_new_100_surface_111_surface_bromine_capping=chance_of_creating_new_100_surface_111_surface_bromine_capping,max_no_of_atoms_added_in_simulation=max_no_of_atoms_added_in_simulation)"
      ],
      "metadata": {
        "id": "IF7aLsiiqHd-"
      },
      "execution_count": null,
      "outputs": [],
      "id": "IF7aLsiiqHd-"
    },
    {
      "cell_type": "markdown",
      "source": [
        "After performing this simulation, run the code below to watch the animation of your simulation. Can you see the bromide ions cover up the nanoprism and stop the growth?"
      ],
      "metadata": {
        "id": "rfkVxZQDrmEb"
      },
      "id": "rfkVxZQDrmEb"
    },
    {
      "cell_type": "code",
      "source": [
        "import os\n",
        "if not os.path.exists('Computational_Silver_Nanoparticle_Exercise_Data'):\n",
        "    message = 'Could not load files. Make sure you have run the prerequisites before running this code.'\n",
        "    tostring =  '\\n'+'-'*len(message)+'\\n'\n",
        "    tostring += message+'\\n'\n",
        "    tostring += '-'*len(message)\n",
        "    raise Exception(tostring)\n",
        "\n",
        "from ase.io import read\n",
        "from Computational_Silver_Nanoparticle_Exercise_Data.movie_viewer.x3d_movie_viewer import view_x3d_movie\n",
        "\n",
        "animation = read(traj_path_small,index=':')\n",
        "view_x3d_movie(animation,'Exercise_3.1')"
      ],
      "metadata": {
        "id": "fF0rdMf-rrcO"
      },
      "execution_count": null,
      "outputs": [],
      "id": "fF0rdMf-rrcO"
    },
    {
      "cell_type": "markdown",
      "metadata": {
        "id": "pERFXivvBEEs"
      },
      "source": [
        "The <font color=\"195EBC\" size=\"\">**more bromide added**</font> in the experiment, the more capping ions are available to stick to the surface so the <font color=\"195EBC\" size=\"\">**growth process stops earlier and the smaller the nanoprisms will be.**</font>\n",
        "\n",
        "**Does this agree with what you observed in the nanoprism experiment?**\n",
        "\n",
        "If you have done the experiment, does the suspension that used the largest amount of KBr correspond to the colour of the smallest particles?\n",
        "\n",
        "\n",
        "Once you have finished answering these questions, open up the next notebook called **Part_4.1_Make_your_own_Nanoparticles.ipynb**."
      ],
      "id": "pERFXivvBEEs"
    }
  ]
}